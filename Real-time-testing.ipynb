{
 "cells": [
  {
   "cell_type": "code",
   "execution_count": 1,
   "id": "1e818684",
   "metadata": {},
   "outputs": [
    {
     "name": "stderr",
     "output_type": "stream",
     "text": [
      "WARNING:absl:Compiled the loaded model, but the compiled metrics have yet to be built. `model.compile_metrics` will be empty until you train or evaluate the model.\n"
     ]
    },
    {
     "name": "stdout",
     "output_type": "stream",
     "text": [
      "Exiting...\n"
     ]
    }
   ],
   "source": [
    "import cv2\n",
    "import numpy as np\n",
    "from ultralytics import YOLO\n",
    "from tensorflow.keras.models import load_model\n",
    "\n",
    "face_detector = YOLO(\"yolov8n-face.pt\")\n",
    "\n",
    "gender_model = load_model(\"gender_classification_model.h5\")\n",
    "gender_model.compile(optimizer=\"adam\", loss=\"categorical_crossentropy\", metrics=[\"accuracy\"])\n",
    "classes = [\"Male\", \"Female\", \"Other\"]\n",
    "\n",
    "cap = cv2.VideoCapture(0)\n",
    "\n",
    "if not cap.isOpened():\n",
    "    print(\"Error: Could not open webcam.\")\n",
    "    exit()\n",
    "\n",
    "while True:\n",
    "    ret, frame = cap.read()\n",
    "    if not ret:\n",
    "        print(\"Error: Failed to capture frame.\")\n",
    "        break\n",
    "\n",
    "    rgb_frame = cv2.cvtColor(frame, cv2.COLOR_BGR2RGB)\n",
    "    results = face_detector.predict(rgb_frame, verbose=False)\n",
    "    faces = results[0].boxes.xyxy.cpu().numpy()\n",
    "\n",
    "    male_count, female_count = 0, 0\n",
    "\n",
    "    for box in faces:\n",
    "        x1, y1, x2, y2 = map(int, box)\n",
    "        face_roi = frame[y1:y2, x1:x2]\n",
    "\n",
    "        if face_roi.shape[0] > 0 and face_roi.shape[1] > 0:\n",
    "            face_resized = cv2.resize(face_roi, (64, 64)).astype(np.float32) / 255.0\n",
    "            face_resized = np.expand_dims(face_resized, axis=0)\n",
    "\n",
    "            prediction = gender_model.predict(face_resized, verbose=0)\n",
    "            label = classes[np.argmax(prediction)]\n",
    "\n",
    "            if label == \"Male\":\n",
    "                male_count += 1\n",
    "                color = (255, 0, 0)\n",
    "            else:\n",
    "                female_count += 1\n",
    "                color = (0, 0, 255)\n",
    "\n",
    "            cv2.rectangle(frame, (x1, y1), (x2, y2), color, 2)\n",
    "            cv2.putText(frame, label, (x1, y1 - 10), cv2.FONT_HERSHEY_SIMPLEX, 0.6, color, 2)\n",
    "\n",
    "    cv2.putText(frame, f\"Male: {male_count} | Female: {female_count}\", (20, 40), cv2.FONT_HERSHEY_SIMPLEX, \n",
    "                0.8, (0, 255, 0), 2)\n",
    "\n",
    "    cv2.imshow(\"Multi-Face Gender Classification\", frame)\n",
    "\n",
    "    key = cv2.waitKey(10) & 0xFF\n",
    "    if key == ord('q'):\n",
    "        print(\"Exiting...\")\n",
    "        break\n",
    "\n",
    "cap.release()\n",
    "cv2.destroyAllWindows()"
   ]
  },
  {
   "cell_type": "code",
   "execution_count": 2,
   "id": "62efaacf",
   "metadata": {},
   "outputs": [
    {
     "ename": "SyntaxError",
     "evalue": "unexpected EOF while parsing (3074671048.py, line 11)",
     "output_type": "error",
     "traceback": [
      "\u001b[1;36m  File \u001b[1;32m\"C:\\Users\\maina\\AppData\\Local\\Temp\\ipykernel_5260\\3074671048.py\"\u001b[1;36m, line \u001b[1;32m11\u001b[0m\n\u001b[1;33m    #print(\"Download completed: yolov8n-face.pt\")\u001b[0m\n\u001b[1;37m                                                 ^\u001b[0m\n\u001b[1;31mSyntaxError\u001b[0m\u001b[1;31m:\u001b[0m unexpected EOF while parsing\n"
     ]
    }
   ],
   "source": [
    "#import requests\n",
    "\n",
    "#url = \"https://github.com/akanametov/yolo-face/releases/download/v0.0.0/yolov8n-face.pt\"\n",
    "#filename = \"yolov8n-face.pt\"\n",
    "\n",
    "#response = requests.get(url, stream=True)\n",
    "#with open(filename, \"wb\") as file:\n",
    "#    for chunk in response.iter_contentchunk_size=1024):\n",
    "#        file.write(chunk)\n",
    "(\n",
    "#print(\"Download completed: yolov8n-face.pt\")"
   ]
  }
 ],
 "metadata": {
  "kernelspec": {
   "display_name": "Python 3 (ipykernel)",
   "language": "python",
   "name": "python3"
  },
  "language_info": {
   "codemirror_mode": {
    "name": "ipython",
    "version": 3
   },
   "file_extension": ".py",
   "mimetype": "text/x-python",
   "name": "python",
   "nbconvert_exporter": "python",
   "pygments_lexer": "ipython3",
   "version": "3.9.13"
  }
 },
 "nbformat": 4,
 "nbformat_minor": 5
}
