{
 "cells": [
  {
   "cell_type": "code",
   "execution_count": null,
   "id": "562bf41d",
   "metadata": {},
   "outputs": [
    {
     "name": "stderr",
     "output_type": "stream",
     "text": [
      "WARNING:absl:Compiled the loaded model, but the compiled metrics have yet to be built. `model.compile_metrics` will be empty until you train or evaluate the model.\n"
     ]
    }
   ],
   "source": [
    "import cv2\n",
    "import numpy as np\n",
    "from ultralytics import YOLO\n",
    "from tensorflow.keras.models import load_model\n",
    "\n",
    "face_detector = YOLO(\"yolov8n-face.pt\")\n",
    "gender_model = load_model(\"gender_classification_model.h5\")\n",
    "\n",
    "video_path = \"Videos/genequ1.mp4\"\n",
    "output_path = \"output_video.mp4\"\n",
    "\n",
    "cap = cv2.VideoCapture(video_path)\n",
    "if not cap.isOpened():\n",
    "    exit()\n",
    "\n",
    "fps = int(cap.get(cv2.CAP_PROP_FPS))\n",
    "frame_width = int(cap.get(cv2.CAP_PROP_FRAME_WIDTH))\n",
    "frame_height = int(cap.get(cv2.CAP_PROP_FRAME_HEIGHT))\n",
    "\n",
    "fourcc = cv2.VideoWriter_fourcc(*'mp4v')\n",
    "out = cv2.VideoWriter(output_path, fourcc, fps, (frame_width, frame_height))\n",
    "\n",
    "while cap.isOpened():\n",
    "    ret, frame = cap.read()\n",
    "    if not ret:\n",
    "        break\n",
    "\n",
    "    results = face_detector(frame, verbose=False)[0]\n",
    "    male_count, female_count = 0, 0\n",
    "\n",
    "    for box in results.boxes.xyxy.cpu().numpy():\n",
    "        x1, y1, x2, y2 = map(int, box)\n",
    "        face_roi = frame[y1:y2, x1:x2]\n",
    "\n",
    "        if face_roi.shape[0] > 0 and face_roi.shape[1] > 0:\n",
    "            face_resized = cv2.resize(face_roi, (64, 64)).astype(np.float32) / 255.0\n",
    "            face_resized = np.expand_dims(face_resized, axis=0)\n",
    "\n",
    "            prediction = gender_model.predict(face_resized, verbose=0)\n",
    "            label = \"Male\" if np.argmax(prediction) == 0 else \"Female\"\n",
    "\n",
    "            color = (255, 0, 0) if label == \"Male\" else (0, 0, 255)\n",
    "            if label == \"Male\":\n",
    "                male_count += 1\n",
    "            else:\n",
    "                female_count += 1\n",
    "\n",
    "            cv2.rectangle(frame, (x1, y1), (x2, y2), color, 2)\n",
    "            cv2.putText(frame, label, (x1, y1 - 10), cv2.FONT_HERSHEY_SIMPLEX, 0.8, color, 2)\n",
    "\n",
    "    cv2.putText(frame, f\"Male: {male_count} | Female: {female_count}\", (20, 40), cv2.FONT_HERSHEY_SIMPLEX, \n",
    "                0.9, (0, 255, 0), 2)\n",
    "\n",
    "    out.write(frame)\n",
    "    cv2.imshow(\"Multi-Face Gender Classification\", frame)\n",
    "\n",
    "    if cv2.waitKey(10) & 0xFF == ord('q'):\n",
    "        break\n",
    "\n",
    "cap.release()\n",
    "out.release()\n",
    "cv2.destroyAllWindows()"
   ]
  },
  {
   "cell_type": "code",
   "execution_count": null,
   "id": "2e9dd58c",
   "metadata": {},
   "outputs": [],
   "source": []
  }
 ],
 "metadata": {
  "kernelspec": {
   "display_name": "Python 3 (ipykernel)",
   "language": "python",
   "name": "python3"
  },
  "language_info": {
   "codemirror_mode": {
    "name": "ipython",
    "version": 3
   },
   "file_extension": ".py",
   "mimetype": "text/x-python",
   "name": "python",
   "nbconvert_exporter": "python",
   "pygments_lexer": "ipython3",
   "version": "3.9.13"
  }
 },
 "nbformat": 4,
 "nbformat_minor": 5
}
